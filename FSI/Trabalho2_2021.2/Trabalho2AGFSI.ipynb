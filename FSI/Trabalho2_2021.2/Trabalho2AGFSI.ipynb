{
  "nbformat": 4,
  "nbformat_minor": 0,
  "metadata": {
    "colab": {
      "name": "Trabalho2AG.ipynb",
      "provenance": [],
      "collapsed_sections": [],
      "include_colab_link": true
    },
    "kernelspec": {
      "name": "python3",
      "display_name": "Python 3"
    },
    "language_info": {
      "name": "python"
    }
  },
  "cells": [
    {
      "cell_type": "markdown",
      "metadata": {
        "id": "view-in-github",
        "colab_type": "text"
      },
      "source": [
        "<a href=\"https://colab.research.google.com/github/BloomASPX/Facul/blob/master/Trabalho2AGFSI.ipynb\" target=\"_parent\"><img src=\"https://colab.research.google.com/assets/colab-badge.svg\" alt=\"Open In Colab\"/></a>"
      ]
    },
    {
      "cell_type": "markdown",
      "metadata": {
        "id": "mRwKJEqi2iDQ"
      },
      "source": [
        "Guilherme Huff e Ana Capeletti"
      ]
    },
    {
      "cell_type": "code",
      "metadata": {
        "colab": {
          "base_uri": "https://localhost:8080/"
        },
        "id": "9UNTAnEpTlAl",
        "outputId": "3a8d6831-d256-4783-f3cd-82abf129a4e9"
      },
      "source": [
        "!pip install deap"
      ],
      "execution_count": 1,
      "outputs": [
        {
          "output_type": "stream",
          "name": "stdout",
          "text": [
            "Requirement already satisfied: deap in /usr/local/lib/python3.7/dist-packages (1.3.1)\n",
            "Requirement already satisfied: numpy in /usr/local/lib/python3.7/dist-packages (from deap) (1.19.5)\n"
          ]
        }
      ]
    },
    {
      "cell_type": "markdown",
      "metadata": {
        "id": "D_0tzC0dUTjq"
      },
      "source": [
        "Importando as Bibliotecas"
      ]
    },
    {
      "cell_type": "code",
      "metadata": {
        "id": "1FuL6X8-T205"
      },
      "source": [
        "from deap import creator, base, tools, algorithms\n",
        "import random\n",
        "import numpy as np\n",
        "from collections import Counter \n"
      ],
      "execution_count": 2,
      "outputs": []
    },
    {
      "cell_type": "markdown",
      "metadata": {
        "id": "syb4_BF_gACY"
      },
      "source": [
        "Objeto Aula"
      ]
    },
    {
      "cell_type": "code",
      "metadata": {
        "id": "OUVJWD2Rf_do"
      },
      "source": [
        "# class Aula: #Não sera utilizado\n",
        "  \n",
        "#   def __init__(self, nome, chs, professor, sala, prereq):\n",
        "\n",
        "#     self.disciplina = nome\n",
        "#     self.professor = professor\n",
        "#     self.preReq = prereq\n",
        "#     self.sala = sala\n",
        "#     self.horario = self.setHorario()\n",
        "  \n",
        "#   def getDisciplina(self):\n",
        "#     return self.disciplina\n",
        "  \n",
        "#   def getCHS(self):\n",
        "#     return self.chs\n",
        "\n",
        "#   def getProfessor(self):\n",
        "#     return self.professor\n",
        "  \n",
        "#   def getPreRec(self):\n",
        "#     return self.preRec\n",
        "\n",
        "#   def getsala(self):\n",
        "#     return self.preReq\n",
        "  \n",
        "#   def setHorarios(self):\n",
        "#     return random.sample(range(1,50), 1)\n",
        "     \n",
        "#   def getHorarios(self):\n",
        "#     return self.horarios"
      ],
      "execution_count": 3,
      "outputs": []
    },
    {
      "cell_type": "markdown",
      "metadata": {
        "id": "MuffpxdBITxu"
      },
      "source": [
        "Objetos Disciplina\n"
      ]
    },
    {
      "cell_type": "code",
      "metadata": {
        "id": "iCk0vdzxISSR"
      },
      "source": [
        "# class Disciplina:#Não sera Utilizado\n",
        "  \n",
        "#   def __init__(self, nome, chs, professor, sala, prereq):\n",
        "\n",
        "#     self.nome = nome\n",
        "#     self.chs = chs\n",
        "#     self.professor = professor\n",
        "#     self.preReq = prereq\n",
        "#     self.sala = sala\n",
        "#     self.horarios = self.setHorarios()\n",
        "  \n",
        "#   def getNome(self):\n",
        "#     return self.nome\n",
        "  \n",
        "#   def getCHS(self):\n",
        "#     return self.chs\n",
        "\n",
        "#   def getProfessor(self):\n",
        "#     return self.professor\n",
        "  \n",
        "#   def getPreRec(self):\n",
        "#     return self.preRec\n",
        "\n",
        "#   def getsala(self):\n",
        "#     return self.preReq\n",
        "  \n",
        "#   def setHorarios(self):\n",
        "#     lista = []\n",
        "#     if(self.chs%2 == 0):\n",
        "#       num = random.sample(range(0,49), int(self.chs/2))\n",
        "#       for i in num:\n",
        "#         lista.append(i)\n",
        "#         lista.append(i+1)\n",
        "#     else:\n",
        "#       lista = random.sample(range(0,50), self.chs)\n",
        "#     return lista\n",
        "     \n",
        "#   def getHorarios(self):\n",
        "#     return self.horarios\n",
        "    \n",
        "# def gerarObjeto(m):\n",
        "#   nome = lista_nomes[m]\n",
        "#   obj = Disciplina(lista_nomes[m], lista_disc[nome][0], lista_disc[nome][1], lista_disc[nome][2],  lista_disc[nome][3])\n",
        "#   print(obj.getProfessor)\n",
        "#   return obj\n"
      ],
      "execution_count": 4,
      "outputs": []
    },
    {
      "cell_type": "markdown",
      "metadata": {
        "id": "T4RETr_0Ca4V"
      },
      "source": [
        "```\n",
        "lista_disc = {\"Fundamentos de Programação\":[4, \"Suzan Kelly Borges Piovesan\", 10, None], \"Introdução a Ciência da Computação\":[3, \"Elenilton Jairo Dezengrini\", 10, None], \"Fundamentos de Eletricidade\":[2, \"Carlos Frederico Charret Brandt\", 10, None], \"Cálculo Diferencial e Integral 1\":[6, \"Vitor Alex Alves De Marchi\", 10, None], \"Geometria Analítica e Álgebra Linear\": [6, \"Evandro Alves Nakajima\", 10, None], \"Lógica Matemática\":[4, \"Davi Marcondes Rocha\", 10, None],\n",
        "             \"Circuitos Digitais\":[6, \"Leiliane Pereira De Rezende\", 9, \"Lógica Matemática\"], \"Linguagem de Programação Estruturada\":[3, \"Giani Carla Ito\", 9, \"Fundamentos de Programação\"], \"Fundamentos de Banco de Dados\":[4, \"Elenilton Jairo Dezengrini\", 9, None], \"Comunicação Linguística\":[2, \"Vera Lucia Vasilevski Dos Santos Araujo\", 9, None], \"Cálculo Diferencial e Integral 2\":[4, \"Evandro Alves Nakajima\", 9, \"Cálculo Diferencial e Integral 1\"], \"Probabilidade e Estatística\":[4, \"Vitor Alex Alves De Marchi\", 9, None],\n",
        "             \"Sistemas Gerenciadores de Banco de Dados\":[4, \"Leiliane Pereira De Rezende\", 8, \"Fundamentos de Banco de Dados\"], \"Estrutura de Dados\":[4, \"Thiago Franca Naves\", 8, \"Linguagem de Programação Estruturada\"], \"Arquitetura e Organização de Computadores\":[4, \"Claudio Jose Biazus\", 8, None], \"Programação Orientada a Objetos\":[4, \"Elenilton Jairo Dezengrini\", 8, \"Fundamentos de Programação\"], \"Linguagem de Estruturação e Apresentação de Conteúdos\":[3, \"Elenilton Jairo Dezengrini\", 8, None], \"Cálculo Numérico\":[4, \"Evandro Alves Nakajima\", 8, None],\n",
        "             \"Linguagem de Programação Objeto Orientada\":[4, \"Giuvane Conti\", 7,\"Sistemas Gerenciadores de Banco de Dados|Programação Orientada a Objetos\"], \"Pesquisa e Ordenação de Dados\":[3, \"Pedro Luiz De Paula Filho\", 7, \"Estrutura de dados\"], \"Engenharia de Requisitos\":[3, \"Davi Marcondes Rocha\", 7, None], \"Linguagem de Montagem\":[3, \"Claudio Jose Biazus\", 7, \"Linguagem de programação estruturada|Arquitetura e Organização de Computadores\"], \"Comunicação de Dados\":[4,\"Giani Carla Ito\", 7, None], \"Computação Gráfica\":[4, \"Davi Marcondes Rocha\",7,\"Geometria analítica e álgebra linear\"], \"Metodologia da Pesquisa\":[2, \"Vera Lucia Vasilevski Dos Santos Araujo\", 7, None]\n",
        "             }\n",
        "```"
      ]
    },
    {
      "cell_type": "code",
      "metadata": {
        "id": "kdOFui054UeI"
      },
      "source": [
        "#Dicionarios de Informações\n",
        "\n",
        "\n",
        "lista_disc = {\"Fundamentos de Programação\":[4, \"Suzan Kelly Borges Piovesan\", 10, ()], \"Introdução a Ciência da Computação\":[3, \"Elenilton Jairo Dezengrini\", 10, ()], \"Fundamentos de Eletricidade\":[2, \"Carlos Frederico Charret Brandt\", 10, ()], \"Cálculo Diferencial e Integral 1\":[6, \"Vitor Alex Alves De Marchi\", 10, ()], \"Geometria Analítica e Álgebra Linear\": [6, \"Evandro Alves Nakajima\", 10, ()], \"Lógica Matemática\":[4, \"Davi Marcondes Rocha\", 10, ()],\n",
        "             \"Circuitos Digitais\":[6, \"Leiliane Pereira De Rezende\", 9, (\"Lógica Matemática\")], \"Linguagem de Programação Estruturada\":[3, \"Giani Carla Ito\", 9, (\"Fundamentos de Programação\")], \"Fundamentos de Banco de Dados\":[4, \"Elenilton Jairo Dezengrini\", 9, ()], \"Comunicação Linguística\":[2, \"Vera Lucia Vasilevski Dos Santos Araujo\", 9, ()], \"Cálculo Diferencial e Integral 2\":[4, \"Evandro Alves Nakajima\", 9, \"Cálculo Diferencial e Integral 1\"], \"Probabilidade e Estatística\":[4, \"Vitor Alex Alves De Marchi\", 9, ()],\n",
        "             \"Sistemas Gerenciadores de Banco de Dados\":[4, \"Leiliane Pereira De Rezende\", 8, (\"Fundamentos de Banco de Dados\")], \"Estrutura de Dados\":[4, \"Thiago Franca Naves\", 8, (\"Linguagem de Programação Estruturada\")], \"Arquitetura e Organização de Computadores\":[4, \"Claudio Jose Biazus\", 8, ()], \"Programação Orientada a Objetos\":[4, \"Elenilton Jairo Dezengrini\", 8, (\"Fundamentos de Programação\")], \"Linguagem de Estruturação e Apresentação de Conteúdos\":[3, \"Elenilton Jairo Dezengrini\", 8, ()], \"Cálculo Numérico\":[4, \"Evandro Alves Nakajima\", 8, ()],\n",
        "             \"Linguagem de Programação Objeto Orientada\":[4, \"Giuvane Conti\", 7,(\"Sistemas Gerenciadores de Banco de Dados\",\"Programação Orientada a Objetos\")], \"Pesquisa e Ordenação de Dados\":[3, \"Pedro Luiz De Paula Filho\", 7, (\"Estrutura de dados\")], \"Engenharia de Requisitos\":[3, \"Davi Marcondes Rocha\", 7, ()], \"Linguagem de Montagem\":[3, \"Claudio Jose Biazus\", 7, (\"Linguagem de programação estruturada\",\"Arquitetura e Organização de Computadores\")], \"Comunicação de Dados\":[4,\"Giani Carla Ito\", 7, ()], \"Computação Gráfica\":[4, \"Davi Marcondes Rocha\",7,(\"Geometria analítica e álgebra linear\")], \"Metodologia da Pesquisa\":[2, \"Vera Lucia Vasilevski Dos Santos Araujo\", 7, ()]\n",
        "             }\n",
        "lista_nomes = [\"Fundamentos de Programação\", \"Introdução a Ciência da Computação\", \"Fundamentos de Eletricidade\",  \"Cálculo Diferencial e Integral 1\", \"Geometria Analítica e Álgebra Linear\", \"Lógica Matemática\", \n",
        "               \"Circuitos Digitais\", \"Linguagem de Programação Estruturada\", \"Fundamentos de Banco de Dados\", \"Comunicação Linguística\", \"Cálculo Diferencial e Integral 2\", \"Probabilidade e Estatística\",\n",
        "               \"Sistemas Gerenciadores de Banco de Dados\", \"Estrutura de Dados\", \"Arquitetura e Organização de Computadores\", \"Programação Orientada a Objetos\", \"Linguagem de Estruturação e Apresentação de Conteúdos\", \"Cálculo Numérico\",\n",
        "               \"Linguagem de Programação Objeto Orientada\", \"Pesquisa e Ordenação de Dados\", \"Engenharia de Requisitos\", \"Linguagem de Montagem\", \"Comunicação de Dados\", \"Computação Gráfica\", \"Metodologia da Pesquisa\"]\n",
        "\n",
        "lista_professor_disc = {\"Suzan Kelly Borges Piovesan\": (\"Fundamentos de Programação\"), \"Elenilton Jairo Dezengrini\": (\"Introdução a Ciência da Computação\", \"Fundamentos de Banco de Dados\", \"Programação Orientada a Objetos\", \"Linguagem de Estruturação e Apresentação de Conteúdos\"), \"Carlos Frederico Charret Brandt\": (\"Fundamentos de Eletricidade\"), \"Vitor Alex Alves De Marchi\":(\"Cálculo Diferencial e Integral 1\", \"Probabilidade e Estatística\"),\n",
        "                        \"Evandro Alves Nakajima\": (\"Geometria Analítica e Álgebra Linear\", \"Cálculo Diferencial e Integral 2\",\"Cálculo Numérico\"),\"Davi Marcondes Rocha\":(\"Lógica Matemática\",\"Engenharia de Requisitos\", \"Computação Gráfica\"), \"Leiliane Pereira De Rezende\":( \"Circuitos Digitais\", \"Sistemas Gerenciadores de Banco de Dados\"), \"Giani Carla Ito\":(\"Linguagem de Programação Estruturada\", \"Comunicação de Dados\"), \n",
        "                        \"Vera Lucia Vasilevski Dos Santos Araujo\":(\"Comunicação Linguística\", \"Metodologia da Pesquisa\"),\"Thiago Franca Naves\":(\"Estrutura de Dados\"), \"Claudio Jose Biazus\":(\"Arquitetura e Organização de Computadores\", \"Linguagem de Montagem\"), \"Giuvane Conti\":(\"Linguagem de Programação Objeto Orientada\"), \"Pedro Luiz De Paula Filho\":(\"Pesquisa e Ordenação de Dados\")}\n",
        "\n",
        "lista_primeiro = [\"Fundamentos de Programação\", \"Introdução a Ciência da Computação\", \"Fundamentos de Eletricidade\",  \"Cálculo Diferencial e Integral 1\", \"Geometria Analítica e Álgebra Linear\", \"Lógica Matemática\"]\n",
        "lista_segundo = [\"Circuitos Digitais\", \"Linguagem de Programação Estruturada\", \"Fundamentos de Banco de Dados\", \"Comunicação Linguística\", \"Cálculo Diferencial e Integral 2\", \"Probabilidade e Estatística\"]\n",
        "lista_terceiro = [\"Sistemas Gerenciadores de Banco de Dados\", \"Estrutura de Dados\", \"Arquitetura e Organização de Computadores\", \"Programação Orientada a Objetos\", \"Linguagem de Estruturação e Apresentação de Conteúdos\", \"Cálculo Numérico\"]\n",
        "lista_quarto = [\"Linguagem de Programação Objeto Orientada\", \"Pesquisa e Ordenação de Dados\", \"Engenharia de Requisitos\", \"Linguagem de Montagem\", \"Comunicação de Dados\", \"Computação Gráfica\", \"Metodologia da Pesquisa\"]\n",
        "\n",
        "manha = [0, 1, 2, 3, 4, 10, 11, 12, 13, 14, 20, 21, 22, 23, 24, 30, 31, 32, 33, 34, 40, 41, 42, 43, 44]\n",
        "tarde = [5, 6, 7, 8, 9, 15, 16, 17, 18, 19, 25, 26, 27, 28, 29, 35, 36, 37, 38, 39, 45, 46, 47, 48, 49]\n",
        "IND_SIZE = 25\n",
        "\n",
        "\n",
        "def gerarHorarios(m):#Função de Gerar Horarios para cada diciplina\n",
        "  lista = []\n",
        "  dicio_hora = dict()\n",
        "  nome = lista_nomes[m]\n",
        "  chs = lista_disc[nome][0]\n",
        "  if(chs%2 == 0):\n",
        "    num = random.sample(range(0,49), int(chs/2))\n",
        "    for i in num:\n",
        "      lista.append(i)\n",
        "      lista.append(i+1)\n",
        "  else:\n",
        "    lista = random.sample(range(0,50), chs)\n",
        "  dicio_hora[nome] = lista\n",
        "  return dicio_hora\n",
        "\n",
        "def gerarListaObjetos(num):#Função de Gerar Lista de todos os dicionarios de horarios\n",
        "  lista_final = []\n",
        "  for i in range(int(num)):\n",
        "    print(i)\n",
        "    lista_final.append(gerarHorarios(i))\n",
        "  return lista_final"
      ],
      "execution_count": 5,
      "outputs": []
    },
    {
      "cell_type": "markdown",
      "metadata": {
        "id": "VRziWvccCvsN"
      },
      "source": [
        ""
      ]
    },
    {
      "cell_type": "markdown",
      "metadata": {
        "id": "dhWfzjrKz2QD"
      },
      "source": [
        "\n",
        "```\n",
        "def gerarHorarios(chs):\n",
        "  lista = []\n",
        "  if(chs%2 == 0):\n",
        "    num = random.sample(range(0,50), int(chs/2))\n",
        "    for i in num:\n",
        "      lista.append(i)\n",
        "      lista.append(i+1)\n",
        "  else:\n",
        "    lista = random.sample(range(0,51))\n",
        "  return lista\n",
        "\n",
        "def gerarGenes(num):\n",
        "```\n",
        "\n"
      ]
    },
    {
      "cell_type": "markdown",
      "metadata": {
        "id": "5Fkp58Ln5Oz8"
      },
      "source": [
        "Parte de identificar o sistema Individuo Gene População\n",
        "O individo é composto por uma lista de dicionarios onde cada dicionario é uma diciplina e seus horarios\n"
      ]
    },
    {
      "cell_type": "code",
      "metadata": {
        "id": "ymE9IeyEw39g"
      },
      "source": [
        "toolbox = base.Toolbox()"
      ],
      "execution_count": 6,
      "outputs": []
    },
    {
      "cell_type": "code",
      "metadata": {
        "id": "Klx0M8t0WJQy"
      },
      "source": [
        "creator.create(\"FitnessMax\", base.Fitness, weights=(1.0,))\n",
        "creator.create(\"EstIndividuo\", list, fitness = creator.FitnessMax)"
      ],
      "execution_count": 7,
      "outputs": []
    },
    {
      "cell_type": "code",
      "metadata": {
        "id": "BtJ1z721yw0I"
      },
      "source": [
        "toolbox.register(\"Genes\", gerarListaObjetos, IND_SIZE)#Criação do Genes\n",
        "toolbox.register(\"Individuos\", tools.initIterate, creator.EstIndividuo, toolbox.Genes)#Individuo tipo lista, a cração do genes retorna uma lista de varios genes então a criaão do individuo só é executada uma vez\n",
        "toolbox.register(\"Populacao\", tools.initRepeat, list, toolbox.Individuos)#Definição da população"
      ],
      "execution_count": 8,
      "outputs": []
    },
    {
      "cell_type": "markdown",
      "metadata": {
        "id": "rT_Iu9xX5mVM"
      },
      "source": [
        "Exemplo de um individuo\n",
        "\n",
        "\n",
        "\n",
        "```\n",
        "[{\"Nome\":[1, 2, 3]}, {\"Nome2\":[2, 3, 4]}, ...]\n",
        "\n",
        "```\n",
        "\n",
        "\n"
      ]
    },
    {
      "cell_type": "code",
      "metadata": {
        "id": "MPRIbUV0miP_"
      },
      "source": [
        "pop = toolbox.Populacao(n=10)"
      ],
      "execution_count": null,
      "outputs": []
    },
    {
      "cell_type": "markdown",
      "metadata": {
        "id": "YAi3ZTuu5USx"
      },
      "source": [
        "Mutação, Crossover e Torneio"
      ]
    },
    {
      "cell_type": "code",
      "metadata": {
        "id": "TR1vheSy5CVR"
      },
      "source": [
        "def crossOverPMX(indv1, indv2):\n",
        "  lista_posicoes = random.sample(range(0, IND_SIZE), 8)\n",
        "  for posy in lista_posicoes:\n",
        "    aux = indv1[posy]\n",
        "    indv1[posy] = indv2[posy]\n",
        "    indv2[posy] = aux\n",
        "  \n",
        "  return indv1, indv2\n",
        "\n",
        "def mutacaoSIX(indv, indpb):\n",
        "  lista_posicoes = random.sample(range(0, IND_SIZE), 5)\n",
        "  if random.random() < indpb:\n",
        "    for posy in lista_posicoes:\n",
        "      aux = indv[posy]\n",
        "      for r in aux:\n",
        "        ls_aux = aux[r]\n",
        "        for i in range(len(ls_aux)):\n",
        "          if ls_aux[i] < 49:\n",
        "            ls_aux[i] += 1\n",
        "          else:\n",
        "            ls_aux[i] = 0\n",
        "          ls_aux = sorted(ls_aux)\n",
        "        aux[r] = ls_aux\n",
        "        indv[posy] = aux\n",
        "           \n",
        "  return indv,\n"
      ],
      "execution_count": 10,
      "outputs": []
    },
    {
      "cell_type": "markdown",
      "metadata": {
        "id": "7F-T6PSTRaYs"
      },
      "source": [
        "Função Fitness"
      ]
    },
    {
      "cell_type": "code",
      "metadata": {
        "id": "UfiDfEr5-G0F"
      },
      "source": [
        "def procuraKey(tupla, dic):\n",
        "  for chave in dic.keys():\n",
        "\n",
        "    if(chave in tupla):\n",
        "      return True, chave\n",
        "\n",
        "  return False, \n",
        "\n",
        "def evalOneMax(Individuos):\n",
        "  f = 0\n",
        "  penalidade = 0\n",
        "  hora_disc_periodo1 = []\n",
        "  hora_disc_periodo2 = []\n",
        "  hora_disc_periodo3 = []\n",
        "  hora_disc_periodo4 = []\n",
        "  for posyInd in range(len(Individuos)):\n",
        "\n",
        "    atual = Individuos[posyInd] #Recebe um dicionario do individuo atual\n",
        "    key = None\n",
        "    for k in atual:#Pega a Key\n",
        "      key = k\n",
        "    \n",
        "    cm = 0\n",
        "    ct = 0\n",
        "    horarios_atual = []\n",
        "    for k in atual[key]:\n",
        "      horarios_atual.append(k)\n",
        "\n",
        "    #lista de aulas por periodo: \n",
        "    if key in lista_primeiro:\n",
        "      hora_disc_periodo1.extend(horarios_atual)\n",
        "    else: \n",
        "      if key in lista_segundo:\n",
        "        hora_disc_periodo2.extend(horarios_atual)\n",
        "      else: \n",
        "        if key in lista_terceiro:\n",
        "          hora_disc_periodo3.extend(horarios_atual)\n",
        "        else: \n",
        "          if key in lista_quarto:\n",
        "            hora_disc_periodo4.extend(horarios_atual)\n",
        "    \n",
        "    #Manha e Tarde: Choque de horários entre períodos (um de manhã e outro a tarde)\n",
        "    for i in horarios_atual:\n",
        "      if i in manha:\n",
        "        cm += 1\n",
        "      if i in tarde:\n",
        "        ct += 1\n",
        "    \n",
        "    if cm > 0 and ct > 0:\n",
        "      penalidade += 10*cm*ct\n",
        "    else: \n",
        "      if cm > 0 and ct <= 0:\n",
        "        penalidade -= 10*cm\n",
        "      else:\n",
        "        penalidade -= 10*ct\n",
        "    \n",
        "    professor = lista_disc[key][1]#Busca o professor e as outras informações com a key\n",
        "    sala = lista_disc[key][2]\n",
        "    Prequisito = lista_disc[key][3]\n",
        "    # print(atual, horarios_atual, key, professor, Prequisito)\n",
        "\n",
        "    c = Counter(horarios_atual)\n",
        "    for numero, repeticoes in c.items():#Busca se tem duas aulas da mesma diciplina no mesmo horario\n",
        "      if repeticoes > 1:\n",
        "        penalidade += 100\n",
        "\n",
        "    #Hora converdindo com pre requisito: Horarios de pre-requisitos e requisitos iguais\n",
        "    hora_disc_pre = horarios_atual\n",
        "    for discAux in Individuos:\n",
        "      #Busca se o individuo tem pré requisito e se tem horarios iguais\n",
        "      teste = procuraKey(Prequisito, discAux)\n",
        "      if teste[0] == True:\n",
        "        hora_disc_pre.extend(discAux[teste[1]])\n",
        "                \n",
        "    # print(penalidade, \" : \", hora_disc_pre)\n",
        "    c = Counter(hora_disc_pre)\n",
        "    for numero, repeticoes in c.items():\n",
        "      if repeticoes > 1:\n",
        "        penalidade += 100\n",
        "    \n",
        "    #Duas aulas do professor no mesmo Horario: Disponibilidade do professor\n",
        "    hora_disc_prof = horarios_atual   \n",
        "    disc_prof = lista_professor_disc[professor]\n",
        "    for discAux in Individuos:\n",
        "      # print(hora_disc_prof)\n",
        "      teste = procuraKey(disc_prof, discAux)\n",
        "      if teste[0] == True:\n",
        "        if teste[1] != key:\n",
        "         hora_disc_prof.extend(discAux[teste[1]])\n",
        "    \n",
        "    # print(penalidade, \" : \", hora_disc_prof)\n",
        "    c = Counter(hora_disc_prof)\n",
        "    for numero, repeticoes in c.items():\n",
        "      if repeticoes > 1:\n",
        "        penalidade += 100\n",
        "  \n",
        "  #Contagem diciplinas mesmo periodo com horarios iguais: Duas diciplinas do mesmo periodo com horarios iguais\n",
        "  c = Counter(hora_disc_periodo1)\n",
        "  for numero, repeticoes in c.items():\n",
        "      if repeticoes > 1:\n",
        "        penalidade += (200)\n",
        "  c = Counter(hora_disc_periodo2)\n",
        "  for numero, repeticoes in c.items():\n",
        "      if repeticoes > 1:\n",
        "        penalidade += (200)\n",
        "  c = Counter(hora_disc_periodo3)\n",
        "  for numero, repeticoes in c.items():\n",
        "      if repeticoes > 1:\n",
        "        penalidade += (200)\n",
        "  c = Counter(hora_disc_periodo4)\n",
        "  for numero, repeticoes in c.items():\n",
        "      if repeticoes > 1:\n",
        "        penalidade += (200)\n",
        "  \n",
        "\n",
        "\n",
        "  f = 100/(100+penalidade)\n",
        "\n",
        "  return f,\n"
      ],
      "execution_count": 11,
      "outputs": []
    },
    {
      "cell_type": "code",
      "metadata": {
        "id": "fs0SvyZg-n7_"
      },
      "source": [
        "toolbox.register(\"evaluate\", evalOneMax)\n",
        "toolbox.register(\"mate\", crossOverPMX)\n",
        "toolbox.register(\"mutate\", mutacaoSIX, indpb=0.05)\n",
        "toolbox.register(\"select\", tools.selTournament, tournsize=2)"
      ],
      "execution_count": 12,
      "outputs": []
    },
    {
      "cell_type": "code",
      "metadata": {
        "id": "JXEE5NR1-yz2"
      },
      "source": [
        "def estatisticaSalvar(Individuos):\n",
        "  return Individuos.fitness.values\n",
        "\n",
        "estatistica = tools.Statistics(estatisticaSalvar)\n",
        "\n",
        "estatistica.register('mean', np.mean)\n",
        "estatistica.register('min', np.min)\n",
        "estatistica.register('max', np.max)\n"
      ],
      "execution_count": 13,
      "outputs": []
    },
    {
      "cell_type": "code",
      "metadata": {
        "id": "ZU11Kzhe-_RZ"
      },
      "source": [
        "hof = tools.HallOfFame(1)\n",
        "NGEN = 5000"
      ],
      "execution_count": 14,
      "outputs": []
    },
    {
      "cell_type": "code",
      "metadata": {
        "id": "G4BfksLumjkT"
      },
      "source": [
        "result, log = algorithms.eaSimple(pop, toolbox, cxpb=0.8, mutpb=0.1, ngen=NGEN, stats=estatistica, halloffame=hof, verbose=True)"
      ],
      "execution_count": null,
      "outputs": []
    },
    {
      "cell_type": "code",
      "metadata": {
        "id": "y9lIi4Felc9-"
      },
      "source": [
        "print(hof[0])"
      ],
      "execution_count": null,
      "outputs": []
    },
    {
      "cell_type": "code",
      "metadata": {
        "id": "dw-e5dZscg4V"
      },
      "source": [
        "print(evalOneMax(hof[0]))"
      ],
      "execution_count": null,
      "outputs": []
    },
    {
      "cell_type": "code",
      "metadata": {
        "id": "YLpfePdohJum"
      },
      "source": [
        "resultadomelhor = hof[0]\n",
        "\n",
        "def resultProfessorHora(individuo):\n",
        "  dicionario = {}\n",
        "  for posyInd in range(len(individuo)):\n",
        "    plista = []\n",
        "    atual = individuo[posyInd] #Recebe um dicionario do individuo atual\n",
        "    key = None\n",
        "    for k in atual:#Pega a Key\n",
        "      key = k\n",
        "\n",
        "    professor = lista_disc[key][1]#Busca o professor com a key\n",
        "    if(professor in dicionario):\n",
        "      for r in dicionario[professor]:\n",
        "        plista.append(r)\n",
        "      plista.append(atual)\n",
        "      dicionario[professor] = plista\n",
        "      \n",
        "    else:\n",
        "      plista.append(atual)\n",
        "      dicionario[professor] = plista\n",
        "\n",
        "  return dicionario  \n",
        "  \n",
        "\n",
        "dic_prof = resultProfessorHora(resultadomelhor)\n",
        "for i in dic_prof:\n",
        "  print(\"Professor\", i)\n",
        "  for j in  range(len(dic_prof[i])):\n",
        "    print(\"Diciplinas\", dic_prof[i][j])\n",
        "  print(\"\\n\")"
      ],
      "execution_count": null,
      "outputs": []
    },
    {
      "cell_type": "code",
      "metadata": {
        "id": "BCG5Mq-xsdV_"
      },
      "source": [
        "def resultHora(individuo):\n",
        "  dicionario = {}\n",
        "  for i in range(50):\n",
        "    dicionario[i] = []\n",
        "    \n",
        "  for posyInd in range(len(individuo)):\n",
        "    plista = []\n",
        "\n",
        "    atual = individuo[posyInd] #Recebe um dicionario do individuo atual\n",
        "    key = None\n",
        "    for k in atual:#Pega a Key\n",
        "      key = k\n",
        "\n",
        "    horarios_atual = []\n",
        "    for k in atual[key]:\n",
        "      horarios_atual.append(k)\n",
        "\n",
        "    for i in horarios_atual:\n",
        "      lista = dicionario[i]\n",
        "      lista.append(key)\n",
        "    \n",
        "\n",
        "  return dicionario \n",
        "\n",
        "dic_hora = resultHora(resultadomelhor)\n",
        "\n",
        "for i in dic_hora:\n",
        "  print(\"Horario\", i)\n",
        "  for j in range(len(dic_hora[i])):\n",
        "    print(\"Diciplinas\", dic_hora[i][j])\n",
        "  print(\"\\n\")\n"
      ],
      "execution_count": null,
      "outputs": []
    }
  ]
}